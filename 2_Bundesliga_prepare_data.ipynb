{
 "cells": [
  {
   "cell_type": "code",
   "execution_count": 2,
   "metadata": {},
   "outputs": [],
   "source": [
    "import pickle\n",
    "\n",
    "import pandas as pd\n",
    "pd.set_option(\"display.max_columns\",999)\n",
    "#pd.set_option(\"display.max_rows\",5000)\n",
    "\n",
    "import numpy as np"
   ]
  },
  {
   "cell_type": "markdown",
   "metadata": {},
   "source": [
    "## Load Data"
   ]
  },
  {
   "cell_type": "code",
   "execution_count": 3,
   "metadata": {},
   "outputs": [],
   "source": [
    "with open(\"Spieltagsdaten_Bundesliga_de_raw.pickle\", \"rb\") as handle:\n",
    "    df_alle = pickle.load(handle)"
   ]
  },
  {
   "cell_type": "markdown",
   "metadata": {},
   "source": [
    "## Set np.nans were necessary"
   ]
  },
  {
   "cell_type": "code",
   "execution_count": 4,
   "metadata": {},
   "outputs": [],
   "source": [
    "cols_nans = df_alle.columns[df_alle.isnull().any()]\n",
    "for col in cols_nans:\n",
    "    df_alle.loc[df_alle[col].isnull(),col] = np.nan"
   ]
  },
  {
   "cell_type": "markdown",
   "metadata": {},
   "source": [
    "## Unify teamnames (derzeit nur SV Werder Bremen / Werder Bremen"
   ]
  },
  {
   "cell_type": "code",
   "execution_count": 4,
   "metadata": {},
   "outputs": [],
   "source": [
    "df_alle.Teamname = df_alle.Teamname.str.replace(\"SV Werder Bremen\",\"Werder Bremen\")"
   ]
  },
  {
   "cell_type": "markdown",
   "metadata": {},
   "source": [
    "## Rename and rearrange columns "
   ]
  },
  {
   "cell_type": "code",
   "execution_count": 5,
   "metadata": {},
   "outputs": [],
   "source": [
    "df_alle = df_alle.reset_index()\n",
    "df_alle.rename(columns={'index':'ort'}, inplace=True)\n",
    "new_cols = df_alle.columns.str.replace(\"tracking\",\"\")\n",
    "new_cols = [el.lower() for el in new_cols]\n",
    "df_alle.columns = new_cols\n",
    "#df_alle.head(2)\n",
    "#list(zip(np.arange(0,len(new_cols)),new_cols)) # to check columns and position"
   ]
  },
  {
   "cell_type": "code",
   "execution_count": 6,
   "metadata": {},
   "outputs": [],
   "source": [
    "neworder = [7,3,4,5,2,0,6,1] + list(np.arange(8,len(new_cols),1))\n",
    "sorted_cols = [new_cols[el] for el in neworder] \n",
    "df_alle = df_alle[sorted_cols]"
   ]
  },
  {
   "cell_type": "markdown",
   "metadata": {},
   "source": [
    "## Insert St. Pauli vs. FC Schalke (am grünen Tisch entschieden) - 2010/2011 28. Spieltag"
   ]
  },
  {
   "cell_type": "code",
   "execution_count": 7,
   "metadata": {},
   "outputs": [],
   "source": [
    "insert_pauli = pd.DataFrame([\"28. Spieltag, FC St. Pauli : FC Schalke 04 (grüner Tisch)\", \"2010/2011\",9,28,\"01.04.2011 - 20:30\",\"Home\",\"FC St. Pauli\",\"Holger Stanislawski\",0]).T\n",
    "insert_schalke = pd.DataFrame([\"28. Spieltag, FC St. Pauli : FC Schalke 04 (grüner Tisch)\", \"2010/2011\",9,28,\"01.04.2011 - 20:30\",\"Away\",\"FC Schalke 04\",\"Ralf Rangnick\",2]).T\n",
    "\n",
    "insert_df = pd.concat([insert_pauli, insert_schalke], axis = 0)\n",
    "insert_df.columns = [\"titel\",\"saison\",\"spiel\",\"spieltag\",\"datum\",\"ort\",\"teamname\",\"coach\",\"tore\"]\n",
    "insert_df.reset_index(drop = True, inplace = True)\n",
    "\n",
    "columns = df_alle.columns[9::]\n",
    "nan_df = pd.DataFrame(np.zeros(2 * len(columns)).reshape(2,len(columns)),columns = columns)\n",
    "nan_df.loc[:,:] = np.nan\n",
    "\n",
    "insert_data = pd.concat([insert_df,nan_df], axis = 1)\n",
    "\n",
    "df_alle=pd.concat([df_alle,insert_data],axis = 0)\n",
    "#df_alle.tail()"
   ]
  },
  {
   "cell_type": "code",
   "execution_count": 8,
   "metadata": {},
   "outputs": [],
   "source": [
    "df_alle = df_alle.sort_values(by = [\"saison\",\"spieltag\",\"spiel\"], ascending = [True,True,True]).reset_index(drop = True)"
   ]
  },
  {
   "cell_type": "markdown",
   "metadata": {},
   "source": [
    "## Change data format for columns"
   ]
  },
  {
   "cell_type": "code",
   "execution_count": 9,
   "metadata": {},
   "outputs": [],
   "source": [
    "## formatierte Datetime\n",
    "df_alle.datum = pd.to_datetime(df_alle.datum, dayfirst=True)\n",
    "\n",
    "## formatiere Integer\n",
    "#int_cols = [\"spiel\",\"tore\",\"sprints\", \"yellowredcards\",\"shotstotalinsidebox\",\"crossesright\",\"shotstotalheader\",\n",
    "#            \"yellowcards\",\"fastruns\",\"offsides\",\"intensiveruns\",\"foulscommitted\",\"shotstotal\",\"ballstouched\",\"cornerkicks\",\"redcards\",\n",
    "#            \"shotsfootinsidebox\",\"activeplayercount\",\"duelswon\",\"crossesleft\",\"cornerkicksright\",\"passescompleted\",\"crosses\",\"cornerkicksleft\",\n",
    "#            \"shotstotaloutsidebox\",\"handballs\",\"passesfailed\",\"shotsfootoutsidebox\"]\n",
    "\n",
    "#for col in int_cols:\n",
    "#    df_alle[col] = df_alle[col].astype(int)\n",
    "\n",
    "## formatiere Category\n",
    "cat_cols = [\"saison\",\"ort\",\"teamname\",\"coach\"]\n",
    "for col in cat_cols:\n",
    "    df_alle[col] = df_alle[col].astype(\"category\")\n",
    "\n",
    "## formatiere Float\n",
    "not_floats = [\"titel\"]\n",
    "float_cols = [col for col in df_alle.columns if (df_alle[col].dtypes == \"object\") & (col not in not_floats)]\n",
    "            \n",
    "for col in float_cols:\n",
    "    df_alle[col] = df_alle[col].astype(float)\n"
   ]
  },
  {
   "cell_type": "markdown",
   "metadata": {},
   "source": [
    "## Erstelle Indexnummer je Spiel"
   ]
  },
  {
   "cell_type": "code",
   "execution_count": 10,
   "metadata": {},
   "outputs": [],
   "source": [
    "maxnr = int(len(df_alle)/2)\n",
    "gamenumber = np.linspace(1,maxnr,maxnr)\n",
    "\n",
    "df_alle.loc[df_alle.ort == \"Home\",\"spielnr\"] = gamenumber\n",
    "df_alle.loc[df_alle.ort == \"Away\",\"spielnr\"] = gamenumber"
   ]
  },
  {
   "cell_type": "markdown",
   "metadata": {},
   "source": [
    "## Bestimme Spielausgang (1 = Heimsieg, 0 = Unentschieden, 2 = Auswärtssieg)"
   ]
  },
  {
   "cell_type": "code",
   "execution_count": 11,
   "metadata": {},
   "outputs": [],
   "source": [
    "home = df_alle[df_alle.ort == \"Home\"].tore.reset_index(drop = True)\n",
    "away = df_alle[df_alle.ort == \"Away\"].tore.reset_index(drop = True)"
   ]
  },
  {
   "cell_type": "code",
   "execution_count": 12,
   "metadata": {},
   "outputs": [],
   "source": [
    "home_res = np.where(home - away > 0, 1,np.where(home-away == 0,0,2))\n",
    "away_res = np.where(away - home > 0,2,np.where(away-home == 0,0,1))"
   ]
  },
  {
   "cell_type": "code",
   "execution_count": 13,
   "metadata": {},
   "outputs": [],
   "source": [
    "df_alle.loc[df_alle.ort == \"Home\",\"spielausgang\"] = home_res\n",
    "df_alle.loc[df_alle.ort == \"Away\",\"spielausgang\"] = away_res"
   ]
  },
  {
   "cell_type": "markdown",
   "metadata": {},
   "source": [
    "## Bestimme Ausgangstyp (\"Heimsieg\", \"Heimniederlage\", \"Unentschieden\", \"Auswärtssieg\", \"Auswärtsniederlage\")"
   ]
  },
  {
   "cell_type": "code",
   "execution_count": 14,
   "metadata": {},
   "outputs": [],
   "source": [
    "df_alle.loc[(df_alle.ort == \"Home\") & (df_alle.spielausgang == 1), \"ausgangstyp\"] = \"Heimsieg\"\n",
    "df_alle.loc[(df_alle.ort == \"Home\") & (df_alle.spielausgang == 2), \"ausgangstyp\"] = \"Heimniederlage\"\n",
    "df_alle.loc[(df_alle.ort == \"Away\") & (df_alle.spielausgang == 1), \"ausgangstyp\"] = \"Auswärtsniederlage\"\n",
    "df_alle.loc[(df_alle.ort == \"Away\") & (df_alle.spielausgang == 2), \"ausgangstyp\"] = \"Auswärtssieg\"\n",
    "df_alle.loc[df_alle.spielausgang == 0,\"ausgangstyp\"] = \"Unentschieden\"\n",
    "df_alle.spielausgang = df_alle.spielausgang.astype(\"category\")"
   ]
  },
  {
   "cell_type": "markdown",
   "metadata": {},
   "source": [
    "## Bestimme Punkte und die Tordifferenz"
   ]
  },
  {
   "cell_type": "code",
   "execution_count": 15,
   "metadata": {},
   "outputs": [],
   "source": [
    "## Punkte\n",
    "mapper = {\"Heimsieg\":3,\"Heimniederlage\":0,\"Auswärtssieg\":3,\"Auswärtsniederlage\":0,\"Unentschieden\":1}\n",
    "df_alle[\"punkte\"] = df_alle.ausgangstyp.map(mapper)"
   ]
  },
  {
   "cell_type": "code",
   "execution_count": 16,
   "metadata": {},
   "outputs": [],
   "source": [
    "## Tordifferenz\n",
    "home_tore = np.array(df_alle[df_alle.ort == \"Home\"][\"tore\"])\n",
    "away_tore = np.array(df_alle[df_alle.ort == \"Away\"][\"tore\"])\n",
    "df_alle.loc[df_alle.ort == \"Home\",\"tordiff\"] = home_tore - away_tore\n",
    "df_alle.loc[df_alle.ort == \"Away\",\"tordiff\"] = (home_tore - away_tore)*-1"
   ]
  },
  {
   "cell_type": "markdown",
   "metadata": {},
   "source": [
    "## Berechne Tabellen-Daten (Platzierung, Punkte, Tordiff etc. am jeweiligen Spieltag)"
   ]
  },
  {
   "cell_type": "code",
   "execution_count": 17,
   "metadata": {},
   "outputs": [],
   "source": [
    "mapper = {\"2009/2010\":2009,\"2010/2011\":2010,\"2011/2012\":2011,\"2012/2013\":2012,\"2013/2014\":2013,\n",
    "          \"2014/2015\":2014,\"2015/2016\":2015,\"2016/2017\":2016,\"2017:2018\":2017}\n",
    "df_alle.saison = df_alle.saison.map(mapper)"
   ]
  },
  {
   "cell_type": "code",
   "execution_count": 18,
   "metadata": {},
   "outputs": [],
   "source": [
    "def get_spieltagstabelle(df, saison,spieltag):\n",
    "    \n",
    "    '''Berechnet Spieltagstabelle für angegebenen Spieltag einer Saison\n",
    "    ::input: df = KickerDaten, saison (e.g. 2015/2016 = 2015), spieltag (e.g. 12. Spieltag = 12)\n",
    "    ::output: pandas mit Spieltagstabelle\n",
    "    \n",
    "    Beispiel: get_spieltagstabelle(df, 2015, 12)\n",
    "    '''\n",
    "    if (saison not in df.saison.unique()) or (spieltag not in df[df.saison == saison].spieltag.unique()): \n",
    "        print(\"Saison und/oder Spieltag der Saison nicht vorhanden\") \n",
    "        \n",
    "        return \n",
    "    \n",
    "    punkte = df.groupby([\"saison\",\"spieltag\",\"teamname\"])[\"punkte\"].sum().unstack(1).cumsum(axis = 1)\n",
    "    tore = df.groupby([\"saison\",\"spieltag\",\"teamname\"])[\"tore\"].sum().unstack(1).cumsum(axis = 1)\n",
    "    tordiff = df.groupby([\"saison\",\"spieltag\",\"teamname\"])[\"tordiff\"].sum().unstack(1).cumsum(axis = 1)\n",
    "    gegentore = tore - tordiff\n",
    "\n",
    "    df_punkte = punkte.loc[saison, spieltag].reset_index()\n",
    "    df_punkte.columns = [\"teamname\",\"saison_punkte\"]\n",
    "\n",
    "    df_tore = tore.loc[saison,spieltag].reset_index()\n",
    "    df_tore.columns = [\"teamname\",\"saison_tore\"]\n",
    "\n",
    "    df_gegentore = gegentore.loc[saison,spieltag].reset_index()\n",
    "    df_gegentore.columns = [\"teamname\",\"saison_gegentore\"]\n",
    "\n",
    "    tabelle_unsorted = df_punkte.merge(df_tore, on = \"teamname\").merge(df_gegentore, on = \"teamname\")\n",
    "    tabelle_unsorted[\"saison_tordiff\"] = tabelle_unsorted[\"saison_tore\"]-tabelle_unsorted[\"saison_gegentore\"]\n",
    "    \n",
    "    spieltagstabelle = tabelle_unsorted.sort_values(by = [\"saison_punkte\",\"saison_tordiff\",\"saison_tore\",\"saison_gegentore\"], ascending = False).set_index(np.arange(1,19))\n",
    "    spieltagstabelle[\"saison_platz\"] = spieltagstabelle.index\n",
    "    spieltagstabelle[\"saison_gegentore\"] = spieltagstabelle[\"saison_gegentore\"].astype(float)\n",
    "    spieltagstabelle[\"saison_tordiff\"] = spieltagstabelle[\"saison_tordiff\"].astype(float)\n",
    "    spieltagstabelle[\"saison\"] = saison\n",
    "    spieltagstabelle[\"spieltag\"] = spieltag\n",
    "    \n",
    "    return spieltagstabelle\n"
   ]
  },
  {
   "cell_type": "code",
   "execution_count": 19,
   "metadata": {},
   "outputs": [],
   "source": [
    "## generiere Pandas mit allen Tabellen für alle Saisons und Spieltage\n",
    "saisons = df_alle.saison.unique()\n",
    "spieltage = df_alle.spieltag.unique()\n",
    "all_spieltagstabellen = pd.DataFrame()\n",
    "for saison in saisons:\n",
    "    for spieltag in spieltage:\n",
    "        tabelle = get_spieltagstabelle(df_alle, saison,spieltag)\n",
    "        all_spieltagstabellen = pd.concat([all_spieltagstabellen, tabelle],axis=0)\n",
    "\n",
    "## Merge Daten aus Tabellen (Punkte, Tore, Platzierung etc.)\n",
    "df_alle = df_alle.merge(all_spieltagstabellen, on = [\"teamname\",\"saison\",\"spieltag\"], how = \"outer\")"
   ]
  },
  {
   "cell_type": "code",
   "execution_count": 20,
   "metadata": {},
   "outputs": [
    {
     "data": {
      "text/plain": [
       "(Index(['titel', 'saison', 'spiel', 'spieltag', 'datum', 'ort', 'teamname',\n",
       "        'coach', 'tore', 'averagespeed', 'sprints', 'ballstouchedpercent',\n",
       "        'yellowredcards', 'shotstotalinsidebox', 'shotsongoaltotal',\n",
       "        'passescompletedpercent', 'crossesright', 'shotstotalheader',\n",
       "        'yellowcards', 'fastruns', 'offsides', 'intensiveruns',\n",
       "        'foulscommitted', 'fastrunsdistance', 'shotstotal', 'ballstouched',\n",
       "        'passesfailedpercent', 'cornerkicks', 'redcards', 'shotsfootinsidebox',\n",
       "        'duelswonpercent', 'activeplayercount', 'duelswon', 'crossesleft',\n",
       "        'cornerkicksright', 'speed', 'passescompleted', 'intensiverunsdistance',\n",
       "        'crosses', 'cornerkicksleft', 'shotstotaloutsidebox', 'handballs',\n",
       "        'distance', 'passesfailed', 'shotsfootoutsidebox', 'sprintsdistance',\n",
       "        'spielnr', 'spielausgang', 'ausgangstyp', 'punkte', 'tordiff',\n",
       "        'saison_punkte', 'saison_tore', 'saison_gegentore', 'saison_tordiff',\n",
       "        'saison_platz'],\n",
       "       dtype='object'), 56)"
      ]
     },
     "execution_count": 20,
     "metadata": {},
     "output_type": "execute_result"
    }
   ],
   "source": [
    "df_alle.columns, len(df_alle.columns)"
   ]
  },
  {
   "cell_type": "markdown",
   "metadata": {},
   "source": [
    "## Füge Chancenverwertungs-KPIs hinzu"
   ]
  },
  {
   "cell_type": "code",
   "execution_count": 21,
   "metadata": {},
   "outputs": [],
   "source": [
    "df_alle[\"chancenverwertung\"] = df_alle.tore / df_alle.shotstotal"
   ]
  },
  {
   "cell_type": "code",
   "execution_count": 22,
   "metadata": {},
   "outputs": [],
   "source": [
    "df_alle[\"chancen_inside\"] = df_alle.shotstotalinsidebox / df_alle.shotstotal"
   ]
  },
  {
   "cell_type": "markdown",
   "metadata": {},
   "source": [
    "## Sortiere Spalten final"
   ]
  },
  {
   "cell_type": "code",
   "execution_count": 23,
   "metadata": {},
   "outputs": [],
   "source": [
    "columns_main = [\"titel\",\"saison\",\"spiel\",\"spieltag\",\"spielnr\",\"datum\",\"ort\",\"teamname\",\"coach\",\"tore\",\"tordiff\",\"punkte\",\"spielausgang\",\"ausgangstyp\"]\n",
    "columns_shots = [\"shotstotal\",\"shotsongoaltotal\",\"shotstotaloutsidebox\",\"shotstotalinsidebox\",\"shotsfootoutsidebox\",\"shotsfootinsidebox\",\"shotstotalheader\"]\n",
    "columns_chancen = [\"chancenverwertung\",\"chancen_inside\"]\n",
    "columns_passes = [\"passescompletedpercent\",\"passesfailedpercent\",\"passescompleted\",\"passesfailed\"]\n",
    "columns_corners = [\"cornerkicks\",\"cornerkicksleft\",\"cornerkicksright\"]\n",
    "columns_crosses = [\"crosses\",\"crossesleft\",\"crossesright\"]\n",
    "columns_runs = [\"fastruns\",\"intensiveruns\",\"fastrunsdistance\",\"intensiverunsdistance\",\"averagespeed\",\"speed\",\"distance\",\"sprints\",\"sprintsdistance\"]\n",
    "columns_cards = [\"yellowcards\",\"redcards\",\"yellowredcards\"]\n",
    "columns_others = [\"offsides\",\"foulscommitted\",\"ballstouchedpercent\",\"ballstouched\",\"handballs\",\"duelswonpercent\",\"duelswon\",\n",
    "                  \"activeplayercount\"]\n",
    "columns_saison = [\"saison_platz\",\"saison_punkte\",\"saison_tordiff\",\"saison_tore\",\"saison_gegentore\"]\n",
    "\n",
    "\n",
    "columns_sorted = columns_main + columns_shots + columns_chancen + columns_passes + columns_corners + columns_crosses + columns_runs + columns_cards + columns_others + columns_saison\n",
    "df_alle = df_alle[columns_sorted]"
   ]
  },
  {
   "cell_type": "markdown",
   "metadata": {},
   "source": [
    "## Save Data"
   ]
  },
  {
   "cell_type": "code",
   "execution_count": 24,
   "metadata": {},
   "outputs": [],
   "source": [
    "with open('Spieltagsdaten_Bundesliga_de_formatted.pickle', 'wb') as handle:\n",
    "    pickle.dump(df_alle, handle, protocol=pickle.HIGHEST_PROTOCOL)"
   ]
  }
 ],
 "metadata": {
  "kernelspec": {
   "display_name": "Python [default]",
   "language": "python",
   "name": "python3"
  },
  "language_info": {
   "codemirror_mode": {
    "name": "ipython",
    "version": 3
   },
   "file_extension": ".py",
   "mimetype": "text/x-python",
   "name": "python",
   "nbconvert_exporter": "python",
   "pygments_lexer": "ipython3",
   "version": "3.5.3"
  }
 },
 "nbformat": 4,
 "nbformat_minor": 2
}
